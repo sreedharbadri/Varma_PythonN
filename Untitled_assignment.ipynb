{
 "cells": [
  {
   "cell_type": "code",
   "execution_count": 1,
   "metadata": {
    "collapsed": false
   },
   "outputs": [
    {
     "name": "stdout",
     "output_type": "stream",
     "text": [
      "Enter a string:kumar\n",
      "Enter a substring:MA\n",
      "'MA' substring is there in actual string 'kumar'\n"
     ]
    }
   ],
   "source": [
    "#2. write a program to chek given substring is there in actual string or not? (search should be case insensitive)\n",
    "string=raw_input(\"Enter a string:\")\n",
    "substring=raw_input(\"Enter a substring:\")\n",
    "if substring.lower() in string.lower():\n",
    "    print \"'%s' substring is there in actual string '%s'\"%(substring,string)\n",
    "else:\n",
    "    print  \"'%s' substring is  not there in actual string '%s'\"%(substring,string)\n"
   ]
  },
  {
   "cell_type": "code",
   "execution_count": 2,
   "metadata": {
    "collapsed": false
   },
   "outputs": [
    {
     "name": "stdout",
     "output_type": "stream",
     "text": [
      "Enter a number:33\n",
      "33 is a odd number\n"
     ]
    }
   ],
   "source": [
    "#3. take a number from the user and check whether even or odd\n",
    "num=int(raw_input(\"Enter a number:\"))\n",
    "if (num%2)==0:\n",
    "    print \"%d is a even number\"%num\n",
    "else:\n",
    "    print \"%d is a odd number\"%num\n",
    "    "
   ]
  },
  {
   "cell_type": "code",
   "execution_count": 3,
   "metadata": {
    "collapsed": false
   },
   "outputs": [
    {
     "name": "stdout",
     "output_type": "stream",
     "text": [
      "Enter a number:33\n",
      "33  is  not a prime number\n"
     ]
    }
   ],
   "source": [
    "#4. take a number from the user and check whether it is prime?\n",
    "num=int(raw_input(\"Enter a number:\"))\n",
    "if num>2:\n",
    "    for i in range(2,num):\n",
    "        if num%i==0:\n",
    "            print num,\" is  not a prime number\"\n",
    "            break\n",
    "    else:\n",
    "        print num,\" is a prime number\"\n",
    "else:\n",
    "        print num,\" is  not a prime number\"\n",
    "        "
   ]
  },
  {
   "cell_type": "code",
   "execution_count": 4,
   "metadata": {
    "collapsed": false
   },
   "outputs": [
    {
     "name": "stdout",
     "output_type": "stream",
     "text": [
      "Enter a string:sk\n",
      "sk does not contains only digits\n"
     ]
    }
   ],
   "source": [
    "#5. take a string from the user and check contains only digits or not?\n",
    "string=raw_input(\"Enter a string:\")\n",
    "if string.isdigit()==True:\n",
    "    print \" %s contains only digits\"%string\n",
    "else:\n",
    "    print \"%s does not contains only digits\"%string\n",
    "    \n",
    "        \n"
   ]
  },
  {
   "cell_type": "code",
   "execution_count": 5,
   "metadata": {
    "collapsed": false
   },
   "outputs": [
    {
     "name": "stdout",
     "output_type": "stream",
     "text": [
      "Enter a string:kumar2\n",
      "kumar2 does not contains all alphabets\n"
     ]
    }
   ],
   "source": [
    "#6. take a string from the user and check contains only  alphabets or not?\n",
    "string=raw_input(\"Enter a string:\")\n",
    "if string.isalpha()==True:\n",
    "    print \" %s contains only alphabets\"%string\n",
    "else:\n",
    "    print \"%s does not contains all alphabets\"%string"
   ]
  },
  {
   "cell_type": "code",
   "execution_count": 6,
   "metadata": {
    "collapsed": false
   },
   "outputs": [
    {
     "name": "stdout",
     "output_type": "stream",
     "text": [
      "Enter a string:kumar\n",
      " kumar contains only alphabets\n"
     ]
    }
   ],
   "source": [
    "#6. take a string from the user and check contains only  alphabets or not?\n",
    "string=raw_input(\"Enter a string:\")\n",
    "if string.isalpha()==True:\n",
    "    print \" %s contains only alphabets\"%string\n",
    "else:\n",
    "    print \"%s does not contains all alphabets\"%string"
   ]
  },
  {
   "cell_type": "code",
   "execution_count": 7,
   "metadata": {
    "collapsed": false
   },
   "outputs": [
    {
     "name": "stdout",
     "output_type": "stream",
     "text": [
      "Enter a string:@#\n",
      " string contains all special characters\n"
     ]
    }
   ],
   "source": [
    "#7. take a string from the user and check contains only  special chars or not?\n",
    "string=raw_input(\"Enter a string:\")\n",
    "char = \"~`!@#$%^&*()_-+={}[]:>;',</?*-+\"\n",
    "for i in string:\n",
    "    if i in char:\n",
    "        print \" string contains all special characters\"\n",
    "        break\n",
    "    else:\n",
    "        print \"string does not contains all special characters\"\n",
    "        break"
   ]
  },
  {
   "cell_type": "code",
   "execution_count": 8,
   "metadata": {
    "collapsed": false
   },
   "outputs": [
    {
     "name": "stdout",
     "output_type": "stream",
     "text": [
      "Enter a string:DMMk\n",
      "string does not contains only capital letters\n"
     ]
    }
   ],
   "source": [
    "#8. take a string from the user and check contains only  capiatl letters or not?\n",
    "string=raw_input(\"Enter a string:\")\n",
    "a=string.upper()\n",
    "if string==a:\n",
    "    print \"string contains only capital letters\"\n",
    "else:\n",
    "    print \"string does not contains only capital letters\""
   ]
  },
  {
   "cell_type": "code",
   "execution_count": 9,
   "metadata": {
    "collapsed": false
   },
   "outputs": [
    {
     "name": "stdout",
     "output_type": "stream",
     "text": [
      "Enter a string:ddkL\n",
      "string does not contains only small letters\n"
     ]
    }
   ],
   "source": [
    "#9. take a string from the user and check contains only  small letters or not?\n",
    "string=raw_input(\"Enter a string:\")\n",
    "a=string.lower()\n",
    "if string==a:\n",
    "    print \"string contains only small letters\"\n",
    "else:\n",
    "    print \"string does not contains only small letters\""
   ]
  },
  {
   "cell_type": "code",
   "execution_count": 10,
   "metadata": {
    "collapsed": false
   },
   "outputs": [
    {
     "name": "stdout",
     "output_type": "stream",
     "text": [
      "Please select your OS:2\n",
      "LINUX \n",
      "Please select your OS:q\n",
      "Please enter a valid input\n",
      "Please select your OS:quit\n",
      "Please enter a valid input\n",
      "Please select your OS:4\n"
     ]
    }
   ],
   "source": [
    "##10. Show the below menu to the user until and until user select quit and display corresponding os message\n",
    "\n",
    "while i>=0:\n",
    "    a=raw_input(\"Please select your OS:\")\n",
    "    if(a==\"1\"):\n",
    "        print \"WINDOWS \"\n",
    "    elif(a==\"2\"):\n",
    "        print \"LINUX \"\n",
    "    elif(a==\"3\"):\n",
    "        print \"MAC \"\n",
    "    elif(a==\"4\"):\n",
    "        break\n",
    "    else:\n",
    "        print \"Please enter a valid input\"\n",
    "    \n"
   ]
  },
  {
   "cell_type": "code",
   "execution_count": 11,
   "metadata": {
    "collapsed": false
   },
   "outputs": [
    {
     "name": "stdout",
     "output_type": "stream",
     "text": [
      "Enter a string:haka1\n",
      "contains digits\n"
     ]
    }
   ],
   "source": [
    "#11. take a string from the user and check contains atleast one digit or not?\n",
    "string=raw_input(\"Enter a string:\")\n",
    "flag=False\n",
    "for i in string:\n",
    "    if i.isdigit():\n",
    "        flag=True\n",
    "        break       \n",
    "if flag:\n",
    "    print \"contains digits\"\n",
    "else:\n",
    "    print \"not contains digits\"\n"
   ]
  },
  {
   "cell_type": "code",
   "execution_count": 12,
   "metadata": {
    "collapsed": false
   },
   "outputs": [
    {
     "name": "stdout",
     "output_type": "stream",
     "text": [
      "Enter a string:aja2\n",
      "contains alphabets\n"
     ]
    }
   ],
   "source": [
    "#12. take a string from the user and check contains atleast one alphabets or not?\n",
    "string=raw_input(\"Enter a string:\")\n",
    "flag=False\n",
    "for i in string:\n",
    "    if i.isalpha():\n",
    "        flag=True\n",
    "        break\n",
    "if flag:\n",
    "    print \"contains alphabets\"\n",
    "else:\n",
    "    print \"not contains alphabets\"\n"
   ]
  },
  {
   "cell_type": "code",
   "execution_count": 14,
   "metadata": {
    "collapsed": false
   },
   "outputs": [
    {
     "name": "stdout",
     "output_type": "stream",
     "text": [
      "enter a string11k\n",
      "It contains atleast one character\n"
     ]
    }
   ],
   "source": [
    "\n",
    "#13. take a string from the user and check contains atleast one chars or not?\n",
    "input = raw_input(\"enter a string\")\n",
    "count = 0\n",
    "for i in input:\n",
    "    if i.isspace() == False:\n",
    "        count=+1\n",
    "        \n",
    "if count ==0:\n",
    "    print \"It does not contain characters\"\n",
    "else :\n",
    "    print \"It contains atleast one character\""
   ]
  },
  {
   "cell_type": "code",
   "execution_count": 15,
   "metadata": {
    "collapsed": false
   },
   "outputs": [
    {
     "name": "stdout",
     "output_type": "stream",
     "text": [
      "Enter a string:allK\n",
      "contains capital letters\n"
     ]
    }
   ],
   "source": [
    "#14. take a string from the user and check contains atleast one capital letter or not?\n",
    "string=raw_input(\"Enter a string:\")\n",
    "flag=False\n",
    "for i in string:\n",
    "    if i.isupper():\n",
    "        flag=True\n",
    "        break\n",
    "if flag:\n",
    "    print \"contains capital letters\"\n",
    "else:\n",
    "    print \"not contains capital letters\"\n"
   ]
  },
  {
   "cell_type": "code",
   "execution_count": 16,
   "metadata": {
    "collapsed": false
   },
   "outputs": [
    {
     "name": "stdout",
     "output_type": "stream",
     "text": [
      "enter a stringhE\n",
      "It contains atleast one lower case letter\n"
     ]
    }
   ],
   "source": [
    "#15. take a string from the user and check contains atleast one small letter or not?\n",
    "input = raw_input(\"enter a string\")\n",
    "count = 0\n",
    "for i in input:\n",
    "    if i.islower() == True:\n",
    "        count=+1\n",
    "        \n",
    "if count ==0:\n",
    "    print \"It does not contain lower case letters\"\n",
    "else :\n",
    "    print \"It contains atleast one lower case letter\""
   ]
  },
  {
   "cell_type": "code",
   "execution_count": 18,
   "metadata": {
    "collapsed": false
   },
   "outputs": [
    {
     "name": "stdout",
     "output_type": "stream",
     "text": [
      "Enter Total number of people:100\n",
      "Enter Total number of buses:9\n",
      "Enter Total number of seats for bus:10\n",
      " 1  more buses are required to travel for 10 people\n"
     ]
    }
   ],
   "source": [
    "#16. Take the input from the user for(Total number of people, toatl number of busses, Number of seats for bus). Based on the input\n",
    "#Deside whether there is sufficient busses or not and give solution for how many extra busses required.\n",
    "import math\n",
    "people=int(raw_input(\"Enter Total number of people:\"))\n",
    "buses=int(raw_input(\"Enter Total number of buses:\"))\n",
    "seats=int(raw_input(\"Enter Total number of seats for bus:\"))\n",
    "Total_seats=float(buses*seats)\n",
    "rem_people=float(people-Total_seats)\n",
    "required_bus=math.ceil(rem_people/seats)\n",
    "if required_bus == 0:\n",
    "    print \" % d buses are sufficient to travel for %d people\"%(buses,people)\n",
    "elif required_bus != 0:\n",
    "    print \" %d  more buses are required to travel for %d people\"%(int(required_bus),rem_people)\n",
    "\n",
    "\n"
   ]
  },
  {
   "cell_type": "code",
   "execution_count": 21,
   "metadata": {
    "collapsed": false
   },
   "outputs": [
    {
     "name": "stdout",
     "output_type": "stream",
     "text": [
      "[1, 3, 5, 7, 9, 11, 13, 15, 17, 19, 21, 23, 25, 27, 29, 31, 33, 35, 37, 39, 41, 43, 45, 47, 49, 51, 53, 55, 57, 59, 61, 63, 65, 67, 69, 71, 73, 75, 77, 79, 81, 83, 85, 87, 89, 91, 93, 95, 97, 99, 101, 103, 105, 107, 109, 111, 113, 115, 117, 119, 121, 123, 125, 127, 129, 131, 133, 135, 137, 139, 141, 143, 145, 147, 149, 151, 153, 155, 157, 159, 161, 163, 165, 167, 169, 171, 173, 175, 177, 179, 181, 183, 185, 187, 189, 191, 193, 195, 197, 199]\n"
     ]
    }
   ],
   "source": [
    "\n",
    "#17. Print the first 100 odd numbers\n",
    "result = [i for i in range(1,201) if i%2!=0]\n",
    "print result"
   ]
  },
  {
   "cell_type": "code",
   "execution_count": 22,
   "metadata": {
    "collapsed": false
   },
   "outputs": [
    {
     "name": "stdout",
     "output_type": "stream",
     "text": [
      "Enter a number:22\n",
      "The factors of 22 are:\n",
      "1\n",
      "2\n",
      "11\n",
      "22\n"
     ]
    }
   ],
   "source": [
    "#18. Determine the factors of a number entered  by the user\n",
    "x=int(raw_input(\"Enter a number:\"))\n",
    "print\"The factors of\",x,\"are:\"\n",
    "for i in range(1, x + 1):\n",
    "    if x % i == 0:\n",
    "        print i\n"
   ]
  },
  {
   "cell_type": "code",
   "execution_count": 23,
   "metadata": {
    "collapsed": false
   },
   "outputs": [
    {
     "name": "stdout",
     "output_type": "stream",
     "text": [
      "Enter number1:22\n",
      "Enter number2:33\n",
      "largest number is : 33\n"
     ]
    }
   ],
   "source": [
    "#23. Write a program to findout big of two numbers\n",
    "n1=int(raw_input(\"Enter number1:\"))\n",
    "n2=int(raw_input(\"Enter number2:\"))\n",
    "if n1>n2:\n",
    "    print \"largest number is :\",n1\n",
    "else:\n",
    "    print \"largest number is :\",n2\n"
   ]
  },
  {
   "cell_type": "code",
   "execution_count": 24,
   "metadata": {
    "collapsed": false
   },
   "outputs": [
    {
     "name": "stdout",
     "output_type": "stream",
     "text": [
      "876453\n"
     ]
    }
   ],
   "source": [
    "#24.Write a program to findout biggest number in the given numbers\n",
    "def max(a):\n",
    "    max= a[0]       \n",
    "    for i in a :       \n",
    "        if i > max: \n",
    "            max = i \n",
    "    return max         \n",
    "l=[98,975,653221,876453]\n",
    "print max(l)\n"
   ]
  },
  {
   "cell_type": "code",
   "execution_count": null,
   "metadata": {
    "collapsed": false
   },
   "outputs": [],
   "source": [
    "#19. Play a number guessing game (User enters a guess, you print YES or Higher or Lower)\n",
    "import random\n",
    "num= random.randrange(0,10)\n",
    "flag=False\n",
    "while not flag:\n",
    "    number = raw_input(\"I have a number between 1 and 1000.Please type your first guess: \")\n",
    "    if number.isdigit():\n",
    "      print \"Random number has been generated\",num   \n",
    "      if num == number:\n",
    "          print \"Excellent! You guessed the number!\"\n",
    "      elif num < number:\n",
    "          print \"Too low. Try again,\"\n",
    "      elif num > number:\n",
    "          print \"Too high. Try again.\"\n",
    "    else:\n",
    "       print \"Please enter a valid input\""
   ]
  },
  {
   "cell_type": "code",
   "execution_count": null,
   "metadata": {
    "collapsed": true
   },
   "outputs": [],
   "source": [
    "#20. Take two numbers from the user a,b check whether a is divisible by b or not?\n",
    "a=int(raw_input(\"Enter number1:\"))\n",
    "b=int(raw_input(\"Enter number2:\"))\n",
    "if a/b:\n",
    "    print \"%d is divisible by %d\"%(a,b)\n",
    "else:\n",
    "    print \"%d is not divisible by %d\"%(a,b)\n"
   ]
  }
 ],
 "metadata": {
  "kernelspec": {
   "display_name": "Python 2",
   "language": "python",
   "name": "python2"
  },
  "language_info": {
   "codemirror_mode": {
    "name": "ipython",
    "version": 2
   },
   "file_extension": ".py",
   "mimetype": "text/x-python",
   "name": "python",
   "nbconvert_exporter": "python",
   "pygments_lexer": "ipython2",
   "version": "2.7.13"
  }
 },
 "nbformat": 4,
 "nbformat_minor": 2
}
