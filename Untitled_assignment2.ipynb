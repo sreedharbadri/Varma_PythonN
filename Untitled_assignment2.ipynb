{
 "cells": [
  {
   "cell_type": "code",
   "execution_count": 1,
   "metadata": {
    "collapsed": false
   },
   "outputs": [
    {
     "name": "stdout",
     "output_type": "stream",
     "text": [
      "Enter age in years:34\n",
      "An Adult\n"
     ]
    }
   ],
   "source": [
    "#21. Given an age, figure out whether someone's a baby, toddler, child, teenager, adult or old codger.\n",
    "age=int(raw_input(\"Enter age in years:\"))\n",
    "while True:\n",
    "    if age==1:\n",
    "        print \" A Baby\"\n",
    "        break\n",
    "    elif age in range(2,4):\n",
    "        print \" A toddler\"\n",
    "        break\n",
    "    elif age in range(5,12):\n",
    "        print \"A child\"\n",
    "        break\n",
    "    elif age in range(13,18):\n",
    "        print \"A teenager\"\n",
    "        break\n",
    "    elif age in range(19,50):\n",
    "        print \"An Adult\"\n",
    "        break\n",
    "    elif age in range(51,100):\n",
    "        print \"An Old codger\"\n",
    "        break\n"
   ]
  },
  {
   "cell_type": "code",
   "execution_count": 2,
   "metadata": {
    "collapsed": false
   },
   "outputs": [
    {
     "name": "stdout",
     "output_type": "stream",
     "text": [
      "233168\n"
     ]
    }
   ],
   "source": [
    "#22. Find the sum of all the multiples of 3 or 5 below 1000\n",
    "l=[]\n",
    "for i in range(1000):\n",
    "    if i%3==0 or i%5==0:\n",
    "        l.append(i)\n",
    "print sum(l)"
   ]
  },
  {
   "cell_type": "code",
   "execution_count": 3,
   "metadata": {
    "collapsed": false
   },
   "outputs": [
    {
     "data": {
      "text/plain": [
       "25"
      ]
     },
     "execution_count": 3,
     "metadata": {},
     "output_type": "execute_result"
    }
   ],
   "source": [
    "#25. findout third occurance of given substring\n",
    "occur = 3\n",
    "def allindices(string, sub, listindex=[], offset=0):\n",
    "    i = string.find(sub, offset)\n",
    "    while i >= 0:\n",
    "        listindex.append(i)\n",
    "        i = string.find(sub, i + 1)\n",
    "    return listindex[occur -1]\n",
    "allindices(\"hello varma hello master hello\",\"hello\")"
   ]
  },
  {
   "cell_type": "code",
   "execution_count": 7,
   "metadata": {
    "collapsed": false
   },
   "outputs": [
    {
     "name": "stdout",
     "output_type": "stream",
     "text": [
      "Enter a string:this is python\n",
      "Enter a substring:is\n",
      "Enter occurence of substring:3\n",
      "False\n"
     ]
    }
   ],
   "source": [
    "#26. findout nth occurance of given substring\n",
    "string=raw_input(\"Enter a string:\")\n",
    "substring=raw_input(\"Enter a substring:\")\n",
    "a=int(raw_input(\"Enter occurence of substring:\"))\n",
    "def occurance(string,substring,a):\n",
    "    index = 0 \n",
    "    count = 0\n",
    "    while index <= len(string):\n",
    "        try:\n",
    "            if string[index:index + len(substring)] == substring:\n",
    "                count += 1\n",
    "            if count == a:\n",
    "                   return index\n",
    "                   break\n",
    "            index += 1\n",
    "        except IndexError:\n",
    "            return False\n",
    "            break\n",
    "    return False\n",
    "print occurance(string,substring,a)\n"
   ]
  },
  {
   "cell_type": "code",
   "execution_count": 8,
   "metadata": {
    "collapsed": false
   },
   "outputs": [
    {
     "name": "stdout",
     "output_type": "stream",
     "text": [
      "Minimum number is 0\n",
      "Maximum number is 50\n",
      "sum of numbers is 91\n",
      "average of number is 18\n"
     ]
    }
   ],
   "source": [
    "\n",
    "#27. Taake some single digit numbers from the user and findout min, maximum, sum, average\n",
    "num = [1,20,50,20,0]\n",
    "print \"Minimum number is\", min(num)\n",
    "print \"Maximum number is\", max(num)\n",
    "print \"sum of numbers is\", sum(num)\n",
    "print \"average of number is\", sum(num)/len(num)"
   ]
  },
  {
   "cell_type": "code",
   "execution_count": 10,
   "metadata": {
    "collapsed": false
   },
   "outputs": [
    {
     "name": "stdout",
     "output_type": "stream",
     "text": [
      "enter a number10\n",
      "enter a number100\n",
      "enter a number2345678\n",
      "0000010\n",
      "0000100\n",
      "2345678\n"
     ]
    }
   ],
   "source": [
    "#28.WAP> 10 -> 000010 100 ->  000100 1000 ->  001000 2345678  ->  2345678\n",
    "num1 = raw_input(\"enter a number\")\n",
    "num2 = raw_input(\"enter a number\")\n",
    "num3 = raw_input(\"enter a number\")\n",
    "length = max(len(num1),len(num2),len(num3))\n",
    "print num1.zfill(length)\n",
    "print num2.zfill(length)\n",
    "print num3.zfill(length)"
   ]
  },
  {
   "cell_type": "code",
   "execution_count": 13,
   "metadata": {
    "collapsed": false
   },
   "outputs": [
    {
     "name": "stdout",
     "output_type": "stream",
     "text": [
      "emp1\n",
      "emp2\n",
      "emp3\n",
      "emp4\n"
     ]
    }
   ],
   "source": [
    "#29. names  =\"emp1,emp2,emp3,emp4\" iterate through the employee names.\n",
    "names  =\"emp1,emp2,emp3,emp4\"\n",
    "a=names.split(',')\n",
    "for i in a:\n",
    "    print i\n"
   ]
  },
  {
   "cell_type": "code",
   "execution_count": 15,
   "metadata": {
    "collapsed": false
   },
   "outputs": [
    {
     "name": "stdout",
     "output_type": "stream",
     "text": [
      "hello this is varma hello this is kumar hello satya hello this is kumar\n"
     ]
    }
   ],
   "source": [
    "#30. Take actuual string, soucrce string, destination string. replce first nth occurances of soucestring with destination string of actual string\n",
    "act = \"hello this is varma hello this is kumar hello satya hello this is kumar\"\n",
    "act = act.split()\n",
    "new=[]\n",
    "src = \"kosuri\"\n",
    "dest = \"varma\"\n",
    "occurences = 2\n",
    "for i in act:\n",
    "    if new.count(dest)<occurences and i == src :\n",
    "        #print new.count(i)\n",
    "        i=dest\n",
    "    new.append(i)\n",
    "    #print new\n",
    "new1 = \" \".join(new)\n",
    "print new1"
   ]
  },
  {
   "cell_type": "code",
   "execution_count": 16,
   "metadata": {
    "collapsed": false
   },
   "outputs": [
    {
     "name": "stdout",
     "output_type": "stream",
     "text": [
      "[1, 2, 3, 4, 5, 6, 7, 8, 9, 10]\n"
     ]
    }
   ],
   "source": [
    "#32. l=[10,20,30,[40,50,60],70,[80,90,20]]. Convert this list as sigle dimentiona list\n",
    "#l=[10,20,30,[40,50,60],70,[80,90,20]]\n",
    "l=[1,2,3,[4,5,6],7,[8,9,10]] \n",
    "def fun1(l):\n",
    "    m = []\n",
    "    for i in l:\n",
    "        if type(i) == list:\n",
    "            for j in i:\n",
    "                m.append(j)\n",
    "        else:\n",
    "            m.append(i)\n",
    "    return m\n",
    "\n",
    "print fun1(l)"
   ]
  },
  {
   "cell_type": "code",
   "execution_count": 17,
   "metadata": {
    "collapsed": false
   },
   "outputs": [
    {
     "name": "stdout",
     "output_type": "stream",
     "text": [
      "enter a wordgoogle\n",
      "{'e': 1, 'o': 2, 'g': 2, 'l': 1}\n"
     ]
    }
   ],
   "source": [
    "#33. input: \"google\" print count of each character \n",
    "input = raw_input(\"enter a word\")\n",
    "d={}\n",
    "for i in input:\n",
    "    if i in d.keys():\n",
    "        d[i]+=1\n",
    "    else:\n",
    "        d[i]=1\n",
    "print d"
   ]
  },
  {
   "cell_type": "code",
   "execution_count": 18,
   "metadata": {
    "collapsed": false
   },
   "outputs": [
    {
     "name": "stdout",
     "output_type": "stream",
     "text": [
      "[1, 2, 3, 4, 5, 6, 7, 8, 1, 2, 3, 4, 5, 9, 10, 11, 12, 13]\n"
     ]
    }
   ],
   "source": [
    "#34. Convert n dimentional list to single dimentiona list.\n",
    "l=[[1, 2, 3, [4, 5]], 6, 7, 8, [1, 2, 3, [4, 5]], 9, 10, [11, [12, 13]]]\n",
    "l1=[]\n",
    "for i in l:\n",
    "    if isinstance(i,list):\n",
    "        for j in i:\n",
    "            if isinstance(j,list):\n",
    "                l1.extend(j)\n",
    "            else:\n",
    "                l1.append(j)\n",
    "    else:\n",
    "        l1.append(i)\n",
    "print l1"
   ]
  },
  {
   "cell_type": "code",
   "execution_count": 19,
   "metadata": {
    "collapsed": false
   },
   "outputs": [
    {
     "data": {
      "text/plain": [
       "'123numbers'"
      ]
     },
     "execution_count": 19,
     "metadata": {},
     "output_type": "execute_result"
    }
   ],
   "source": [
    "\n",
    "#35. l=[1,2,3] just make it as a string.\n",
    "l=[1,2,3,\"numbers\"]\n",
    "\"\".join(map(str,l))"
   ]
  },
  {
   "cell_type": "code",
   "execution_count": 20,
   "metadata": {
    "collapsed": false
   },
   "outputs": [
    {
     "name": "stdout",
     "output_type": "stream",
     "text": [
      "[1, 2, 3, 4, 5, 6, 7, 8, 9, 10]\n"
     ]
    }
   ],
   "source": [
    "#36. l=[1,2,3,[4,5,6],7,[8,9,10]] for single dimentional list\n",
    "l=[1,2,3,[4,5,6],7,[8,9,10]] \n",
    "def fun1(l):\n",
    "    m = []\n",
    "    for i in l:       \n",
    "        if type(i) == list:\n",
    "            for j in i:\n",
    "                m.append(j)\n",
    "        else:\n",
    "            m.append(i)\n",
    "    return m\n",
    "\n",
    "print fun1(l)"
   ]
  },
  {
   "cell_type": "code",
   "execution_count": 22,
   "metadata": {
    "collapsed": false
   },
   "outputs": [
    {
     "name": "stdout",
     "output_type": "stream",
     "text": [
      "enter a character to find:B\n",
      "count of given character is : 2\n",
      "the given character is found\n"
     ]
    }
   ],
   "source": [
    "#37. l=['a','A','b','B','d','D','c','C'] WAP to find out case insensitive count and case insensitive search for an element.\n",
    "l=['a','A','b','B','d','D','c','C']\n",
    "n=raw_input(\"enter a character to find:\")\n",
    "count=0\n",
    "Flag=False\n",
    "for i in l:\n",
    "    if i.lower()==n.lower():\n",
    "         count=count+1\n",
    "if count>=1:\n",
    "    print \"count of given character is :\",count\n",
    "else:\n",
    "    print \"The given character is not present\"\n",
    "for i in l:\n",
    "    if i.lower()==n.lower():\n",
    "        Flag=True\n",
    "        break\n",
    "    else:\n",
    "         Flag\n",
    "if Flag:\n",
    "    print \"the given character is found\"\n",
    "else:\n",
    "    print \"the give character is not found\"\n"
   ]
  },
  {
   "cell_type": "code",
   "execution_count": 23,
   "metadata": {
    "collapsed": false
   },
   "outputs": [
    {
     "data": {
      "text/plain": [
       "['a', 'A', 'b', 'B', 'c', 'C', 'd', 'D']"
      ]
     },
     "execution_count": 23,
     "metadata": {},
     "output_type": "execute_result"
    }
   ],
   "source": [
    "\n",
    "#38. l=['a','A','b','B','d','D','c','C']  sort the list properly\n",
    "l=['a','A','b','B','d','D','c','C']\n",
    "sorted(l, key=lambda v: v.lower())"
   ]
  },
  {
   "cell_type": "code",
   "execution_count": 28,
   "metadata": {
    "collapsed": false
   },
   "outputs": [
    {
     "name": "stdout",
     "output_type": "stream",
     "text": [
      "[1, 2, 3, 4, 5, 6, 7]\n",
      "[1, 2, 3]\n"
     ]
    }
   ],
   "source": [
    "\n",
    "#40. WAP to find union and intersection of lists.\n",
    "l1=[1,2,3,4,5]\n",
    "l2=[1,2,3,6,7]\n",
    "union=[]\n",
    "for i in l1:\n",
    "    if i not in union:\n",
    "        union.append(i)\n",
    "for j in l2:\n",
    "    if j not in union:\n",
    "        union.append(j)\n",
    "print union\n",
    "\n",
    "l1=[1,2,3,4,5]\n",
    "l2=[1,2,3,6,7]\n",
    "intersect=[]\n",
    "for i in l1:\n",
    "    if i in l2:\n",
    "        intersect.append(i)\n",
    "print intersect"
   ]
  },
  {
   "cell_type": "code",
   "execution_count": 29,
   "metadata": {
    "collapsed": false
   },
   "outputs": [
    {
     "name": "stdout",
     "output_type": "stream",
     "text": [
      "[1, 2, 3, 4, 3, 2, 1]\n"
     ]
    }
   ],
   "source": [
    "#41. input: fun(5) output: [1,2,3,4,3,2,1]\n",
    "def fun(a):\n",
    "    b=[]\n",
    "    for i in range(1,a):\n",
    "        b.append(i)\n",
    "        if i == a-1:\n",
    "            for i in range(i-1,0,-1):\n",
    "                b.append(i)\n",
    "    return b\n",
    "print fun(5)"
   ]
  },
  {
   "cell_type": "code",
   "execution_count": 30,
   "metadata": {
    "collapsed": false
   },
   "outputs": [
    {
     "name": "stdout",
     "output_type": "stream",
     "text": [
      "[1, 2, 3, 4]\n"
     ]
    }
   ],
   "source": [
    "#43. Remove duplicates from the list: a=[1,2,3,2,3,4,1,,3,4]\n",
    "a=[1,2,3,3,4,1,3,4]\n",
    "b=[]\n",
    "for i in a:\n",
    "    if i not in b:\n",
    "        b.append(i)\n",
    "print b"
   ]
  },
  {
   "cell_type": "code",
   "execution_count": 31,
   "metadata": {
    "collapsed": false
   },
   "outputs": [
    {
     "name": "stdout",
     "output_type": "stream",
     "text": [
      "6\n"
     ]
    }
   ],
   "source": [
    "\n",
    "#44. l=['1','2','3'] get the sum of the list\n",
    "l=['1','2','3']\n",
    "l1=[]\n",
    "for i in l:\n",
    "    l1.append(int(i))\n",
    "print sum(l1)"
   ]
  },
  {
   "cell_type": "code",
   "execution_count": 32,
   "metadata": {
    "collapsed": false
   },
   "outputs": [
    {
     "data": {
      "text/plain": [
       "[6, 8, 10, 12]"
      ]
     },
     "execution_count": 32,
     "metadata": {},
     "output_type": "execute_result"
    }
   ],
   "source": [
    "#45. l1=[1,2,3,4] l2=[5,6,7,8] sum of two lists\n",
    "l1=[1,2,3,4]\n",
    "l2=[5,6,7,8]\n",
    "[i+j for i,j in zip(l1,l2)]"
   ]
  },
  {
   "cell_type": "code",
   "execution_count": 33,
   "metadata": {
    "collapsed": false
   },
   "outputs": [
    {
     "name": "stdout",
     "output_type": "stream",
     "text": [
      "10\n",
      "7\n"
     ]
    }
   ],
   "source": [
    "\n",
    "#46. Find third max value of element in a list with soring and without sorting a list.\n",
    "l=[1,10,2,9,3,8,4,7,5,6,0,18,19]\n",
    "#using sort\n",
    "l.sort()\n",
    "max_value = 3\n",
    "for i in range(3):\n",
    "    a=l.pop()\n",
    "print a\n",
    "#without sort\n",
    "for i in range(3):\n",
    "    a= max(l)\n",
    "    l.remove(a)\n",
    "print a\n",
    "#for sorting a string\n",
    "a=[1,9,2,8,3,7,4,6,5,0]\n",
    "for i in range(len(a)):\n",
    "        for j in range(len(a) - 1):\n",
    "            if a[j] > a[j+1]:\n",
    "                a[j+1], a[j] = a[j], a[j+1]"
   ]
  },
  {
   "cell_type": "code",
   "execution_count": 34,
   "metadata": {
    "collapsed": false
   },
   "outputs": [
    {
     "name": "stdout",
     "output_type": "stream",
     "text": [
      "[[1, 2, 3], [5], [7, 8, 9, 10, 11, 12, 13], [20], [22, 23, 24, 25, 26, 27], [20, 21], [22], [4]]\n"
     ]
    }
   ],
   "source": [
    "\"\"\"\n",
    "48. l=[1,2,3,5,7,8,9,10,11,12,13,20,22,23,24,25,26,27,20,21,22,4]\n",
    "output = [[1, 2, 3], [5], [7, 8, 9, 10, 11, 12, 13], [20], [22, 23, 24, 25, 26, 27], [20, 21, 22], [4]]\n",
    "\"\"\"\n",
    "l=[1,2,3,5,7,8,9,10,11,12,13,20,22,23,24,25,26,27,20,21,22,4]\n",
    "n = []\n",
    "out = []\n",
    "for i in l:\n",
    "\tif l.index(i) == 0:\n",
    "\t\tn.extend([i])\n",
    "\tif l.index(i) != 0:\n",
    "\t\tj = l[l.index(i)-1]\n",
    "\t\tif (j+1) == i:\n",
    "\t\t\tn.extend([i])\n",
    "\t\telse:\n",
    "\t\t\tout.append(n)\n",
    "\t\t\tn = []\n",
    "\t\t\tn.extend([i])\n",
    "\t\t\tif l.index(i) == (len(l)-1):\n",
    "\t\t\t\tout.append(n)\n",
    "\n",
    "print out\n"
   ]
  },
  {
   "cell_type": "code",
   "execution_count": 35,
   "metadata": {
    "collapsed": false
   },
   "outputs": [
    {
     "name": "stdout",
     "output_type": "stream",
     "text": [
      "odd\n",
      "even\n",
      "odd\n",
      "even\n",
      "odd\n",
      "even\n",
      "even\n",
      "even\n"
     ]
    }
   ],
   "source": [
    "#49. input = 1,2,3,4,5,6,8,10 output = odd,even,odd,even,odd,even,even,even\n",
    "input = 1,2,3,4,5,6,8,10\n",
    "for i in input:\n",
    "    if i%2==0:\n",
    "        print \"even\"\n",
    "    else:\n",
    "        print \"odd\""
   ]
  },
  {
   "cell_type": "code",
   "execution_count": 36,
   "metadata": {
    "collapsed": false
   },
   "outputs": [
    {
     "name": "stdout",
     "output_type": "stream",
     "text": [
      "{'e': 1, 'o': 1, 'g': 1, 'l': 1}\n"
     ]
    }
   ],
   "source": [
    "#51.input: google\n",
    "#output: {'g':2,'o':2,'l':1,'e':1} use dictionary comprehension\n",
    "        \n",
    "words = \"google\"\n",
    "dict2 = {}\n",
    "dict2  = { w: 1 if not dict2.get(w) else dict2.get(w) + 1\n",
    "            for w in words }\n",
    "print(dict2)"
   ]
  },
  {
   "cell_type": "code",
   "execution_count": 37,
   "metadata": {
    "collapsed": false
   },
   "outputs": [
    {
     "name": "stdout",
     "output_type": "stream",
     "text": [
      "{'k2': 'v2', 'k1': 'v1'}\n"
     ]
    }
   ],
   "source": [
    "#52. keys=['k1','k2'], values = ['v1','v2'] form a dictionary.\n",
    "keys=['k1','k2']\n",
    "values=['v1','v2']\n",
    "dictionary = dict(zip(keys,values))\n",
    "print dictionary"
   ]
  },
  {
   "cell_type": "code",
   "execution_count": 38,
   "metadata": {
    "collapsed": false
   },
   "outputs": [
    {
     "name": "stdout",
     "output_type": "stream",
     "text": [
      "[('satish', 90), ('mohan', 80), ('purnesh', 40), ('venkat', 30)]\n"
     ]
    }
   ],
   "source": [
    "#53. Sort the list marks = [(\"mohan\", 80), (\"satish\", 90), (\"purnesh\", 40), (\"venkat\", 30)] acording to descending order of marks\n",
    "marks = [(\"mohan\", 80), (\"satish\", 90), (\"purnesh\", 40), (\"venkat\", 30)]\n",
    "for i in range(len(marks)):\n",
    "    for j in range(len(marks)-1):\n",
    "        if marks[j][1]<marks[j+1][1]:\n",
    "            marks[j+1],marks[j]=marks[j],marks[j+1]\n",
    "print marks"
   ]
  },
  {
   "cell_type": "code",
   "execution_count": 39,
   "metadata": {
    "collapsed": false
   },
   "outputs": [
    {
     "name": "stdout",
     "output_type": "stream",
     "text": [
      "[0.0, 0.1, 0.2, 0.3, 0.4, 0.5, 0.6, 0.7, 0.8, 0.9]\n"
     ]
    }
   ],
   "source": [
    "\n",
    "#54. write a function to get dynamic list for floating numbers also based on strat and end and step parameters\n",
    "r=map(lambda x: x/10.0,range(0,10))\n",
    "print r"
   ]
  },
  {
   "cell_type": "code",
   "execution_count": 40,
   "metadata": {
    "collapsed": false
   },
   "outputs": [
    {
     "name": "stdout",
     "output_type": "stream",
     "text": [
      "[1, 2, 4, 7, 14]\n"
     ]
    }
   ],
   "source": [
    "#55. find out all perfect numbers in given range\n",
    "#perfect number\n",
    "l=[]\n",
    "num=28\n",
    "for i in range(1,num):\n",
    "    if num%i==0:\n",
    "        l.append(i)\n",
    "print l"
   ]
  },
  {
   "cell_type": "code",
   "execution_count": 41,
   "metadata": {
    "collapsed": false
   },
   "outputs": [
    {
     "name": "stdout",
     "output_type": "stream",
     "text": [
      "true\n"
     ]
    }
   ],
   "source": [
    "\n",
    "#56. WAP to do all stack operations using lists\n",
    "class Stack:\n",
    "    def __init__(self):\n",
    "        self.items = []\n",
    "\n",
    "    def push(self, item):\n",
    "         self.items.insert(0,item)\n",
    "\n",
    "    def pop(self):\n",
    "         return self.items.pop(0)\n",
    "\n",
    "    def peek(self):\n",
    "        return self.items[0]\n",
    "    def size(self):\n",
    "        return len(self.items)\n",
    "\n",
    "s = Stack()\n",
    "s.push('hello')\n",
    "s.push('true')\n",
    "print(s.pop())"
   ]
  },
  {
   "cell_type": "code",
   "execution_count": 42,
   "metadata": {
    "collapsed": false
   },
   "outputs": [
    {
     "name": "stdout",
     "output_type": "stream",
     "text": [
      "[4]\n",
      "['dog', 4]\n",
      "[True, 'dog', 4]\n",
      "3\n"
     ]
    }
   ],
   "source": [
    "#57.57. WAP to do all queue operations using lists\n",
    "class Queue:\n",
    "    def __init__(self):\n",
    "        self.items = []\n",
    "\n",
    "    def enqueue(self, item):\n",
    "        self.items.insert(0,item)\n",
    "        print self.items\n",
    "\n",
    "    def dequeue(self):\n",
    "        self.items.pop()\n",
    "        print self.items\n",
    "\n",
    "    def size(self):\n",
    "        return len(self.items)\n",
    "\n",
    "q=Queue()\n",
    "q.enqueue(4)\n",
    "q.enqueue('dog')\n",
    "q.enqueue(True)\n",
    "print(q.size())"
   ]
  },
  {
   "cell_type": "code",
   "execution_count": 44,
   "metadata": {
    "collapsed": false
   },
   "outputs": [
    {
     "name": "stdout",
     "output_type": "stream",
     "text": [
      "hello this is varma hello this is varma hello this is  hello this is \n"
     ]
    }
   ],
   "source": [
    "\n",
    "#58. WAP to remove n occurances of specified element from a list\n",
    "act = \"hello this is varma hello this is varma hello this is varma hello this is varma\"\n",
    "act = act.split()\n",
    "new=[]\n",
    "occurences = 2\n",
    "for i in act:\n",
    "    if new.count(\"varma\")>occurences-1 and i == \"varma\" :\n",
    "        i=\"\"\n",
    "    new.append(i)\n",
    "    #print new\n",
    "new1 = \" \".join(new)\n",
    "print new1"
   ]
  },
  {
   "cell_type": "code",
   "execution_count": null,
   "metadata": {
    "collapsed": true
   },
   "outputs": [],
   "source": [
    "#59. copy 1 file content in to another file(Take the source and destination file path from the user)\n",
    "f = open(\"file.txt\",\"r\")\n",
    "f1 = open(\"file2.txt\",\"w\")\n",
    "data = f.readlines()\n",
    "for i in data:\n",
    "    f1.writelines(i)\n",
    "f1.close()\n",
    "f.close()"
   ]
  },
  {
   "cell_type": "code",
   "execution_count": 46,
   "metadata": {
    "collapsed": false
   },
   "outputs": [
    {
     "name": "stdout",
     "output_type": "stream",
     "text": [
      "['this', 'is', 'first', 'line', '']\n",
      "['']\n",
      "no of lines is  2\n",
      "no of words is 6\n",
      "no of characters is 19\n"
     ]
    }
   ],
   "source": [
    "#61. number of lines, words, characters\n",
    "data =\"this is first line \\n\"\n",
    "lines = data.split(\"\\n\")\n",
    "word_count = 0\n",
    "char_count =0\n",
    "for i in lines:\n",
    "    words = i.split(' ')\n",
    "    print words\n",
    "    word_count+=len(words)\n",
    "    w = \" \".join(words)\n",
    "    for char in w:\n",
    "        char_count+=1\n",
    "\n",
    "print \"no of lines is \",len(lines)\n",
    "print \"no of words is\",word_count\n",
    "print \"no of characters is\", char_count"
   ]
  },
  {
   "cell_type": "code",
   "execution_count": null,
   "metadata": {
    "collapsed": true
   },
   "outputs": [],
   "source": [
    "#79. WAP top remove substring form the given string without using replace function\n",
    "a=raw_input(\"Enter a string:\")\n",
    "b=raw_input(\"Enter substring:\")\n",
    "c=raw_input(\"Enter replace string:\")\n",
    "d = ''\n",
    "for i in a:\n",
    "    if i!=b:              \n",
    "        d+=i\n",
    "    else:\n",
    "        d+=c\n",
    "\n",
    "print d\n"
   ]
  }
 ],
 "metadata": {
  "kernelspec": {
   "display_name": "Python 2",
   "language": "python",
   "name": "python2"
  },
  "language_info": {
   "codemirror_mode": {
    "name": "ipython",
    "version": 2
   },
   "file_extension": ".py",
   "mimetype": "text/x-python",
   "name": "python",
   "nbconvert_exporter": "python",
   "pygments_lexer": "ipython2",
   "version": "2.7.13"
  }
 },
 "nbformat": 4,
 "nbformat_minor": 2
}
